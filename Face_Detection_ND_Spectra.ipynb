{
  "nbformat": 4,
  "nbformat_minor": 0,
  "metadata": {
    "colab": {
      "provenance": [],
      "mount_file_id": "1Rh6SpfiUdWKKapgeZPojH3IF1aFlaJfH",
      "authorship_tag": "ABX9TyNXxNKysGa4wkBOc8kHoJPF",
      "include_colab_link": true
    },
    "kernelspec": {
      "name": "python3",
      "display_name": "Python 3"
    },
    "language_info": {
      "name": "python"
    }
  },
  "cells": [
    {
      "cell_type": "markdown",
      "metadata": {
        "id": "view-in-github",
        "colab_type": "text"
      },
      "source": [
        "<a href=\"https://colab.research.google.com/github/DCODE-ARMY/Face-Detection-and-Recognition/blob/main/Face_Detection_ND_Spectra.ipynb\" target=\"_parent\"><img src=\"https://colab.research.google.com/assets/colab-badge.svg\" alt=\"Open In Colab\"/></a>"
      ]
    },
    {
      "cell_type": "code",
      "execution_count": null,
      "metadata": {
        "id": "3P1G1nFAW9uy"
      },
      "outputs": [],
      "source": [
        "import tensorflow\n",
        "import numpy as np\n",
        "import pandas as pd\n",
        "import cv2 as cv\n"
      ]
    },
    {
      "cell_type": "code",
      "source": [
        "# @title References for Face Detection Models { display-mode: \"form\" }"
      ],
      "metadata": {
        "id": "JE2Dp3fjXzSB"
      },
      "execution_count": null,
      "outputs": []
    },
    {
      "cell_type": "code",
      "source": [
        "'''\n",
        "#ArcFace\n",
        "1. https://medium.com/@ichigo.v.gen12/arcface-architecture-and-practical-example-how-to-calculate-the-face-similarity-between-\n",
        "images-183896a35957#:~:text=The%20image%20from%20original%20paper,%2Dclass(others)%20discrepancy.\n",
        "\n",
        "2. https://github.com/rcmalli/keras-vggface\n",
        "\n",
        "# FaceNet\n",
        "https://github.com/nyoki-mtl/keras-facenet/tree/master?tab=readme-ov-file\n",
        "\n",
        " '''"
      ],
      "metadata": {
        "id": "pS13XpojXziv"
      },
      "execution_count": null,
      "outputs": []
    },
    {
      "cell_type": "code",
      "source": [
        "# !git clone https://github.com/deepinsight/insightface.git\n"
      ],
      "metadata": {
        "id": "RODIdEDUXzlx"
      },
      "execution_count": null,
      "outputs": []
    },
    {
      "cell_type": "code",
      "source": [
        "!pip install tensorflow mtcnn"
      ],
      "metadata": {
        "id": "UNSx4b_uXz2V"
      },
      "execution_count": null,
      "outputs": []
    },
    {
      "cell_type": "code",
      "source": [
        "# !wget https://github.com/nyoki-mtl/keras-facenet/blob/master/model/facenet_keras.h5?raw=true -O facenet_keras.h5\n",
        "# !gdown --id 1PZ_6Zsy1Vb0s0JmjEmVd8FS99zoMCiN1\n"
      ],
      "metadata": {
        "id": "OviDVwBlMUK4"
      },
      "execution_count": null,
      "outputs": []
    },
    {
      "cell_type": "code",
      "source": [
        "# import tensorflow as tf\n",
        "# from tensorflow.keras.models import load_model\n",
        "\n",
        "# # Load the pre-trained Facenet model\n",
        "# model = load_model('/content/drive/MyDrive/model/keras-facenet/weights/facenet_keras_weights.h5')\n"
      ],
      "metadata": {
        "id": "cZYwgP3SMUZI"
      },
      "execution_count": null,
      "outputs": []
    },
    {
      "cell_type": "code",
      "source": [
        "# # Most Recent One (Suggested)\n",
        "# !pip install git+https://github.com/rcmalli/keras-vggface.git\n",
        "# # Release Version\n",
        "# !pip install keras_vggface\n",
        "\n",
        "# !pip install Keras-Applications\n",
        "# !pip install mtcnn"
      ],
      "metadata": {
        "colab": {
          "base_uri": "https://localhost:8080/"
        },
        "id": "oTGrvFCDx7_x",
        "outputId": "4781a342-1682-4649-fa32-73238ecfe0f6"
      },
      "execution_count": null,
      "outputs": [
        {
          "output_type": "stream",
          "name": "stdout",
          "text": [
            "Collecting git+https://github.com/rcmalli/keras-vggface.git\n",
            "  Cloning https://github.com/rcmalli/keras-vggface.git to /tmp/pip-req-build-j2088l08\n",
            "  Running command git clone --filter=blob:none --quiet https://github.com/rcmalli/keras-vggface.git /tmp/pip-req-build-j2088l08\n",
            "  Resolved https://github.com/rcmalli/keras-vggface.git to commit bee35376e76e35d00aeec503f2f242611a97b38a\n",
            "  Preparing metadata (setup.py) ... \u001b[?25l\u001b[?25hdone\n",
            "Requirement already satisfied: numpy>=1.9.1 in /usr/local/lib/python3.10/dist-packages (from keras-vggface==0.6) (1.25.2)\n",
            "Requirement already satisfied: scipy>=0.14 in /usr/local/lib/python3.10/dist-packages (from keras-vggface==0.6) (1.11.4)\n",
            "Requirement already satisfied: h5py in /usr/local/lib/python3.10/dist-packages (from keras-vggface==0.6) (3.9.0)\n",
            "Requirement already satisfied: pillow in /usr/local/lib/python3.10/dist-packages (from keras-vggface==0.6) (9.4.0)\n",
            "Requirement already satisfied: keras in /usr/local/lib/python3.10/dist-packages (from keras-vggface==0.6) (2.15.0)\n",
            "Requirement already satisfied: six>=1.9.0 in /usr/local/lib/python3.10/dist-packages (from keras-vggface==0.6) (1.16.0)\n",
            "Requirement already satisfied: pyyaml in /usr/local/lib/python3.10/dist-packages (from keras-vggface==0.6) (6.0.1)\n",
            "Building wheels for collected packages: keras-vggface\n",
            "  Building wheel for keras-vggface (setup.py) ... \u001b[?25l\u001b[?25hdone\n",
            "  Created wheel for keras-vggface: filename=keras_vggface-0.6-py3-none-any.whl size=8294 sha256=561aa3c54ffe4df3be495873c352bbc528ac78f50674a66260faf4b891dfdcdc\n",
            "  Stored in directory: /tmp/pip-ephem-wheel-cache-fdwkw198/wheels/62/cd/e0/3a2d2fe84d014324aed54d420cab52df65a774d9b296c63996\n",
            "Successfully built keras-vggface\n",
            "Installing collected packages: keras-vggface\n",
            "Successfully installed keras-vggface-0.6\n",
            "Requirement already satisfied: keras_vggface in /usr/local/lib/python3.10/dist-packages (0.6)\n",
            "Requirement already satisfied: numpy>=1.9.1 in /usr/local/lib/python3.10/dist-packages (from keras_vggface) (1.25.2)\n",
            "Requirement already satisfied: scipy>=0.14 in /usr/local/lib/python3.10/dist-packages (from keras_vggface) (1.11.4)\n",
            "Requirement already satisfied: h5py in /usr/local/lib/python3.10/dist-packages (from keras_vggface) (3.9.0)\n",
            "Requirement already satisfied: pillow in /usr/local/lib/python3.10/dist-packages (from keras_vggface) (9.4.0)\n",
            "Requirement already satisfied: keras in /usr/local/lib/python3.10/dist-packages (from keras_vggface) (2.15.0)\n",
            "Requirement already satisfied: six>=1.9.0 in /usr/local/lib/python3.10/dist-packages (from keras_vggface) (1.16.0)\n",
            "Requirement already satisfied: pyyaml in /usr/local/lib/python3.10/dist-packages (from keras_vggface) (6.0.1)\n"
          ]
        }
      ]
    },
    {
      "cell_type": "code",
      "source": [
        "import keras\n",
        "keras.__version__"
      ],
      "metadata": {
        "colab": {
          "base_uri": "https://localhost:8080/",
          "height": 36
        },
        "id": "wWo0BEdE2GLD",
        "outputId": "73fc3357-f5c5-406f-e195-7ad35797e340"
      },
      "execution_count": null,
      "outputs": [
        {
          "output_type": "execute_result",
          "data": {
            "text/plain": [
              "'2.12.0'"
            ],
            "application/vnd.google.colaboratory.intrinsic+json": {
              "type": "string"
            }
          },
          "metadata": {},
          "execution_count": 1
        }
      ]
    },
    {
      "cell_type": "code",
      "source": [
        "'''\n",
        "Note: We are currently using tensorflow 2.15. The VGGFace is supported only till 2.12.\n",
        "we should revert back to 2.12.\n",
        "\n",
        "https://github.com/rcmalli/keras-vggface/issues/97\n",
        "\n",
        "'''\n",
        "\n",
        "!pip uninstall keras\n",
        "!pip install keras==2.12"
      ],
      "metadata": {
        "id": "D1WTJGNTx8Nf"
      },
      "execution_count": null,
      "outputs": []
    },
    {
      "cell_type": "code",
      "source": [
        "from keras import  Model\n",
        "from keras.layers import Input\n",
        "from keras_vggface.vggface import VGGFace\n",
        "\n",
        "# Convolution Features\n",
        "vgg_features = VGGFace(model='senet50',include_top=False, input_shape=(224, 224, 3), pooling='avg') # pooling: None, avg or max\n",
        "model=vgg_features\n"
      ],
      "metadata": {
        "id": "L-siQkzCx8Td"
      },
      "execution_count": null,
      "outputs": []
    },
    {
      "cell_type": "code",
      "source": [],
      "metadata": {
        "colab": {
          "base_uri": "https://localhost:8080/"
        },
        "id": "wbn3Jszix8Zc",
        "outputId": "cb4f44c7-c48a-45d4-c4fd-d2af6d528fd2"
      },
      "execution_count": null,
      "outputs": [
        {
          "output_type": "stream",
          "name": "stdout",
          "text": [
            "Collecting mtcnn\n",
            "  Downloading mtcnn-0.1.1-py3-none-any.whl (2.3 MB)\n",
            "\u001b[2K     \u001b[90m━━━━━━━━━━━━━━━━━━━━━━━━━━━━━━━━━━━━━━━━\u001b[0m \u001b[32m2.3/2.3 MB\u001b[0m \u001b[31m9.9 MB/s\u001b[0m eta \u001b[36m0:00:00\u001b[0m\n",
            "\u001b[?25hRequirement already satisfied: keras>=2.0.0 in /usr/local/lib/python3.10/dist-packages (from mtcnn) (2.12.0)\n",
            "Requirement already satisfied: opencv-python>=4.1.0 in /usr/local/lib/python3.10/dist-packages (from mtcnn) (4.8.0.76)\n",
            "Requirement already satisfied: numpy>=1.21.2 in /usr/local/lib/python3.10/dist-packages (from opencv-python>=4.1.0->mtcnn) (1.25.2)\n",
            "Installing collected packages: mtcnn\n",
            "Successfully installed mtcnn-0.1.1\n"
          ]
        }
      ]
    },
    {
      "cell_type": "code",
      "source": [
        "from mtcnn import MTCNN\n",
        "import numpy as np\n",
        "from PIL import Image\n",
        "import cv2\n",
        "from matplotlib import pyplot as plt\n",
        "\n",
        "# Function to extract a single face from an image\n",
        "def extract_face(filename, required_size=(224, 224)):\n",
        "    # Load image from file\n",
        "    image = Image.open(filename)\n",
        "    image = image.convert('RGB')\n",
        "    pixels = np.asarray(image)\n",
        "\n",
        "    # Create the detector, using default weights\n",
        "    detector = MTCNN()\n",
        "    # Detect faces in the image\n",
        "    results = detector.detect_faces(pixels)\n",
        "    if not results:\n",
        "        raise Exception(\"No face detected\")\n",
        "\n",
        "    # Extract the bounding box from the first face\n",
        "    x1, y1, width, height = results[0]['box']\n",
        "    x2, y2 = x1 + width, y1 + height\n",
        "    # Extract the face\n",
        "    face = pixels[y1:y2, x1:x2]\n",
        "    # Resize pixels to the model size\n",
        "    image = Image.fromarray(face)\n",
        "    image = image.resize(required_size)\n",
        "    face_array = np.asarray(image)\n",
        "    return face_array\n",
        "\n",
        "# Function to get embeddings for a list of images\n",
        "def get_embeddings(filenames):\n",
        "    faces = [extract_face(f) for f in filenames]\n",
        "    samples = np.asarray(faces, 'float32')\n",
        "    samples = (samples - 127.5) / 128.0  # Normalize the images\n",
        "    embeddings = model.predict(samples)\n",
        "    return embeddings\n"
      ],
      "metadata": {
        "id": "OI6xmuiFMUf3"
      },
      "execution_count": null,
      "outputs": []
    },
    {
      "cell_type": "code",
      "source": [],
      "metadata": {
        "id": "awx9rTwiCLL4"
      },
      "execution_count": null,
      "outputs": []
    },
    {
      "cell_type": "code",
      "source": [
        "import matplotlib.pyplot as plt\n",
        "from scipy.spatial.distance import cosine\n",
        "from PIL import Image\n",
        "import numpy as np\n",
        "\n",
        "# Function to determine if two embeddings match\n",
        "def is_match(known_embedding, candidate_embedding, known_image, candidate_image, known_names,thresh=0.0003):\n",
        "    score = cosine(known_embedding, candidate_embedding)\n",
        "    if score <= thresh:\n",
        "        print(score,known_names)\n",
        "        print('>face is a Match (%.3f <= %.3f)' % (score, thresh))\n",
        "        visualize_match(known_image, candidate_image)\n",
        "        return True\n",
        "    else:\n",
        "        print('>face is NOT a Match (%.3f > %.3f)' % (score, thresh))\n",
        "        print(score,known_names)\n",
        "        return False\n",
        "\n",
        "# Function to visualize two images side by side\n",
        "def visualize_match(img1_path, img2_path):\n",
        "    img1 = Image.open(img1_path)\n",
        "    img2 = Image.open(img2_path)\n",
        "\n",
        "    fig, axes = plt.subplots(1, 2, figsize=(10, 5))\n",
        "    axes[0].imshow(img1)\n",
        "    axes[0].axis('off')\n",
        "    axes[0].set_title('Known Image')\n",
        "\n",
        "    axes[1].imshow(img2)\n",
        "    axes[1].axis('off')\n",
        "    axes[1].set_title('New Image')\n",
        "\n",
        "    plt.show()\n",
        "\n",
        "# Example usage with multiple people\n",
        "known_faces = [\"/content/im_1.jpg\", '/content/im_2.jpg', '/content/im_3.jpg', '/content/im_4.jpg']\n",
        "known_names = ['Rain1', 'Raina2', 'Dhoni1', 'Dhoni2']\n",
        "\n",
        "# Get embeddings for known faces\n",
        "known_embeddings = get_embeddings(known_faces)\n",
        "\n",
        "# Load a new image and get its embedding\n",
        "new_face = '/content/im_5.jpg'\n",
        "new_embedding = get_embeddings([new_face])[0]\n",
        "\n",
        "# Compare the new embedding with known embeddings\n",
        "for i in range(len(known_embeddings)):\n",
        "    if is_match(known_embeddings[i], new_embedding, known_faces[i], new_face,known_names[i]):\n",
        "        print(f'The new face matches with {known_names[i]}')\n",
        "        break\n"
      ],
      "metadata": {
        "id": "LRcAZR_S7CgT"
      },
      "execution_count": null,
      "outputs": []
    },
    {
      "cell_type": "code",
      "source": [
        "train_x_files=[\"/content/im_1.jpg\",  '/content/im_3.jpg', ]\n",
        "train_y_files= ['Raina',  'Dhoni']\n",
        "test_x_files=['/content/im_5.jpg','/content/im_6.jpg']\n",
        "test_y_files=['Raina','Dhoni']\n",
        "\n",
        "\n",
        "train_x=get_embeddings(train_x_files)\n",
        "test_x= get_embeddings(test_x_files)\n"
      ],
      "metadata": {
        "colab": {
          "base_uri": "https://localhost:8080/"
        },
        "id": "Ms6NQGW87DBW",
        "outputId": "a27648d8-2bed-4058-fff0-18ab93e4baf3"
      },
      "execution_count": null,
      "outputs": [
        {
          "output_type": "stream",
          "name": "stdout",
          "text": [
            "1/1 [==============================] - 0s 161ms/step\n",
            "1/1 [==============================] - 0s 153ms/step\n",
            "1/1 [==============================] - 0s 32ms/step\n",
            "1/1 [==============================] - 0s 35ms/step\n",
            "1/1 [==============================] - 0s 35ms/step\n",
            "1/1 [==============================] - 0s 30ms/step\n",
            "1/1 [==============================] - 0s 35ms/step\n",
            "1/1 [==============================] - 0s 31ms/step\n",
            "2/2 [==============================] - 0s 7ms/step\n",
            "1/1 [==============================] - 0s 224ms/step\n",
            "1/1 [==============================] - 0s 153ms/step\n",
            "1/1 [==============================] - 0s 144ms/step\n",
            "1/1 [==============================] - 0s 32ms/step\n",
            "1/1 [==============================] - 0s 30ms/step\n",
            "1/1 [==============================] - 0s 28ms/step\n",
            "1/1 [==============================] - 0s 30ms/step\n",
            "1/1 [==============================] - 0s 25ms/step\n",
            "1/1 [==============================] - 0s 31ms/step\n",
            "1/1 [==============================] - 0s 155ms/step\n",
            "1/1 [==============================] - 0s 186ms/step\n",
            "1/1 [==============================] - 0s 354ms/step\n",
            "1/1 [==============================] - 0s 122ms/step\n",
            "1/1 [==============================] - 0s 115ms/step\n",
            "1/1 [==============================] - 0s 26ms/step\n",
            "1/1 [==============================] - 0s 25ms/step\n",
            "1/1 [==============================] - 0s 24ms/step\n",
            "1/1 [==============================] - 0s 23ms/step\n",
            "1/1 [==============================] - 0s 31ms/step\n",
            "5/5 [==============================] - 0s 8ms/step\n",
            "1/1 [==============================] - 0s 175ms/step\n",
            "1/1 [==============================] - 0s 178ms/step\n",
            "1/1 [==============================] - 0s 165ms/step\n",
            "1/1 [==============================] - 0s 45ms/step\n",
            "1/1 [==============================] - 0s 33ms/step\n",
            "1/1 [==============================] - 0s 44ms/step\n",
            "1/1 [==============================] - 0s 33ms/step\n",
            "1/1 [==============================] - 0s 32ms/step\n",
            "2/2 [==============================] - 0s 10ms/step\n",
            "1/1 [==============================] - 0s 241ms/step\n",
            "1/1 [==============================] - 1s 596ms/step\n"
          ]
        }
      ]
    },
    {
      "cell_type": "code",
      "source": [
        "import numpy as np\n",
        "from sklearn.preprocessing import LabelEncoder\n",
        "from sklearn.svm import SVC\n",
        "from sklearn.metrics import accuracy_score\n",
        "from keras.models import load_model\n",
        "from PIL import Image\n"
      ],
      "metadata": {
        "id": "WiTqtoXC7DHH"
      },
      "execution_count": null,
      "outputs": []
    },
    {
      "cell_type": "code",
      "source": [
        "train_y= np.asarray(train_y_files)\n",
        "test_y=np.asarray(test_y_files)\n",
        "print(train_y)\n",
        "print(test_y)\n",
        "\n",
        "\n"
      ],
      "metadata": {
        "colab": {
          "base_uri": "https://localhost:8080/"
        },
        "id": "gQrmrvHQ7DKm",
        "outputId": "5d3b9971-4f37-4692-e186-569e9df7d1e5"
      },
      "execution_count": null,
      "outputs": [
        {
          "output_type": "stream",
          "name": "stdout",
          "text": [
            "['Raina' 'Dhoni']\n",
            "['Raina' 'Dhoni']\n"
          ]
        }
      ]
    },
    {
      "cell_type": "code",
      "source": [
        "a=LabelEncoder()\n",
        "train_y=a.fit_transform(train_y_files)\n",
        "test_y=a.fit_transform(test_y_files)\n",
        "print(train_y,test_y)"
      ],
      "metadata": {
        "colab": {
          "base_uri": "https://localhost:8080/"
        },
        "id": "lULjGyZ6GQlP",
        "outputId": "ee040128-a4b6-49fa-ec81-a3576b65204d"
      },
      "execution_count": null,
      "outputs": [
        {
          "output_type": "stream",
          "name": "stdout",
          "text": [
            "[1 0] [1 0]\n"
          ]
        }
      ]
    },
    {
      "cell_type": "code",
      "source": [
        "svc_model = SVC(kernel='poly', probability=True)\n",
        "svc_model.fit(train_x, train_y)"
      ],
      "metadata": {
        "colab": {
          "base_uri": "https://localhost:8080/",
          "height": 74
        },
        "id": "Q2XcapX-HsKg",
        "outputId": "ab74885f-4c02-43b9-cb99-356f331c765a"
      },
      "execution_count": null,
      "outputs": [
        {
          "output_type": "execute_result",
          "data": {
            "text/plain": [
              "SVC(kernel='poly', probability=True)"
            ],
            "text/html": [
              "<style>#sk-container-id-6 {color: black;background-color: white;}#sk-container-id-6 pre{padding: 0;}#sk-container-id-6 div.sk-toggleable {background-color: white;}#sk-container-id-6 label.sk-toggleable__label {cursor: pointer;display: block;width: 100%;margin-bottom: 0;padding: 0.3em;box-sizing: border-box;text-align: center;}#sk-container-id-6 label.sk-toggleable__label-arrow:before {content: \"▸\";float: left;margin-right: 0.25em;color: #696969;}#sk-container-id-6 label.sk-toggleable__label-arrow:hover:before {color: black;}#sk-container-id-6 div.sk-estimator:hover label.sk-toggleable__label-arrow:before {color: black;}#sk-container-id-6 div.sk-toggleable__content {max-height: 0;max-width: 0;overflow: hidden;text-align: left;background-color: #f0f8ff;}#sk-container-id-6 div.sk-toggleable__content pre {margin: 0.2em;color: black;border-radius: 0.25em;background-color: #f0f8ff;}#sk-container-id-6 input.sk-toggleable__control:checked~div.sk-toggleable__content {max-height: 200px;max-width: 100%;overflow: auto;}#sk-container-id-6 input.sk-toggleable__control:checked~label.sk-toggleable__label-arrow:before {content: \"▾\";}#sk-container-id-6 div.sk-estimator input.sk-toggleable__control:checked~label.sk-toggleable__label {background-color: #d4ebff;}#sk-container-id-6 div.sk-label input.sk-toggleable__control:checked~label.sk-toggleable__label {background-color: #d4ebff;}#sk-container-id-6 input.sk-hidden--visually {border: 0;clip: rect(1px 1px 1px 1px);clip: rect(1px, 1px, 1px, 1px);height: 1px;margin: -1px;overflow: hidden;padding: 0;position: absolute;width: 1px;}#sk-container-id-6 div.sk-estimator {font-family: monospace;background-color: #f0f8ff;border: 1px dotted black;border-radius: 0.25em;box-sizing: border-box;margin-bottom: 0.5em;}#sk-container-id-6 div.sk-estimator:hover {background-color: #d4ebff;}#sk-container-id-6 div.sk-parallel-item::after {content: \"\";width: 100%;border-bottom: 1px solid gray;flex-grow: 1;}#sk-container-id-6 div.sk-label:hover label.sk-toggleable__label {background-color: #d4ebff;}#sk-container-id-6 div.sk-serial::before {content: \"\";position: absolute;border-left: 1px solid gray;box-sizing: border-box;top: 0;bottom: 0;left: 50%;z-index: 0;}#sk-container-id-6 div.sk-serial {display: flex;flex-direction: column;align-items: center;background-color: white;padding-right: 0.2em;padding-left: 0.2em;position: relative;}#sk-container-id-6 div.sk-item {position: relative;z-index: 1;}#sk-container-id-6 div.sk-parallel {display: flex;align-items: stretch;justify-content: center;background-color: white;position: relative;}#sk-container-id-6 div.sk-item::before, #sk-container-id-6 div.sk-parallel-item::before {content: \"\";position: absolute;border-left: 1px solid gray;box-sizing: border-box;top: 0;bottom: 0;left: 50%;z-index: -1;}#sk-container-id-6 div.sk-parallel-item {display: flex;flex-direction: column;z-index: 1;position: relative;background-color: white;}#sk-container-id-6 div.sk-parallel-item:first-child::after {align-self: flex-end;width: 50%;}#sk-container-id-6 div.sk-parallel-item:last-child::after {align-self: flex-start;width: 50%;}#sk-container-id-6 div.sk-parallel-item:only-child::after {width: 0;}#sk-container-id-6 div.sk-dashed-wrapped {border: 1px dashed gray;margin: 0 0.4em 0.5em 0.4em;box-sizing: border-box;padding-bottom: 0.4em;background-color: white;}#sk-container-id-6 div.sk-label label {font-family: monospace;font-weight: bold;display: inline-block;line-height: 1.2em;}#sk-container-id-6 div.sk-label-container {text-align: center;}#sk-container-id-6 div.sk-container {/* jupyter's `normalize.less` sets `[hidden] { display: none; }` but bootstrap.min.css set `[hidden] { display: none !important; }` so we also need the `!important` here to be able to override the default hidden behavior on the sphinx rendered scikit-learn.org. See: https://github.com/scikit-learn/scikit-learn/issues/21755 */display: inline-block !important;position: relative;}#sk-container-id-6 div.sk-text-repr-fallback {display: none;}</style><div id=\"sk-container-id-6\" class=\"sk-top-container\"><div class=\"sk-text-repr-fallback\"><pre>SVC(kernel=&#x27;poly&#x27;, probability=True)</pre><b>In a Jupyter environment, please rerun this cell to show the HTML representation or trust the notebook. <br />On GitHub, the HTML representation is unable to render, please try loading this page with nbviewer.org.</b></div><div class=\"sk-container\" hidden><div class=\"sk-item\"><div class=\"sk-estimator sk-toggleable\"><input class=\"sk-toggleable__control sk-hidden--visually\" id=\"sk-estimator-id-6\" type=\"checkbox\" checked><label for=\"sk-estimator-id-6\" class=\"sk-toggleable__label sk-toggleable__label-arrow\">SVC</label><div class=\"sk-toggleable__content\"><pre>SVC(kernel=&#x27;poly&#x27;, probability=True)</pre></div></div></div></div></div>"
            ]
          },
          "metadata": {},
          "execution_count": 63
        }
      ]
    },
    {
      "cell_type": "code",
      "source": [
        "y_pred_enc = svc_model.predict(test_x)\n",
        "y_pred = a.inverse_transform(y_pred_enc)\n",
        "\n",
        "# Calculate accuracy\n",
        "accuracy = accuracy_score(test_y_files, y_pred)\n",
        "print(f'Accuracy: {accuracy * 100:.2f}%')\n",
        "\n",
        "# Optional: Display some results\n",
        "for i in range(len(test_x)):\n",
        "    print(f'True: {test_y_files[i]}, Predicted: {y_pred[i]}')"
      ],
      "metadata": {
        "colab": {
          "base_uri": "https://localhost:8080/"
        },
        "id": "Dv0vba9nHsXW",
        "outputId": "91358a3d-1b4b-4089-fc11-c599bf6f18cd"
      },
      "execution_count": null,
      "outputs": [
        {
          "output_type": "stream",
          "name": "stdout",
          "text": [
            "Accuracy: 100.00%\n",
            "True: Raina, Predicted: Raina\n",
            "True: Dhoni, Predicted: Dhoni\n"
          ]
        }
      ]
    },
    {
      "cell_type": "code",
      "source": [],
      "metadata": {
        "id": "KbNFY03gHsbg"
      },
      "execution_count": null,
      "outputs": []
    },
    {
      "cell_type": "code",
      "source": [],
      "metadata": {
        "id": "i9CDJXrOHsgC"
      },
      "execution_count": null,
      "outputs": []
    },
    {
      "cell_type": "code",
      "source": [],
      "metadata": {
        "id": "WDdKCkg4Hsko"
      },
      "execution_count": null,
      "outputs": []
    },
    {
      "cell_type": "code",
      "source": [],
      "metadata": {
        "id": "eCmi5FGaHspf"
      },
      "execution_count": null,
      "outputs": []
    }
  ]
}